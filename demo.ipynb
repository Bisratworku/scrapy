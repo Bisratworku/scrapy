{
 "cells": [
  {
   "cell_type": "code",
   "execution_count": 9,
   "metadata": {},
   "outputs": [],
   "source": [
    "import numpy as np\n",
    "import nn\n",
    "import idx2numpy\n",
    "import matplotlib.pyplot as plt"
   ]
  },
  {
   "cell_type": "code",
   "execution_count": 4,
   "metadata": {},
   "outputs": [],
   "source": [
    "train_img = (idx2numpy.convert_from_file(\"train-images.idx3-ubyte\")/255).reshape(-1, 28 * 28)\n",
    "train_lbl = idx2numpy.convert_from_file(\"train-labels.idx1-ubyte\")\n",
    "test_img = (idx2numpy.convert_from_file(\"t10k-images.idx3-ubyte\")/255).reshape(-1, 28 * 28)\n",
    "test_lbl = idx2numpy.convert_from_file(\"t10k-labels.idx1-ubyte\")\n"
   ]
  },
  {
   "cell_type": "code",
   "execution_count": 5,
   "metadata": {},
   "outputs": [
    {
     "name": "stdout",
     "output_type": "stream",
     "text": [
      "EPOCH = 1 --------------------------------------\n",
      "Loss : 4.1128     [10000/ 60000]\n",
      "Loss : 2.3177     [30000/ 60000]\n",
      "Loss : 1.5862     [50000/ 60000]\n",
      "Test LOSS : 1.1129    Accuracy = 69.4 \n",
      "EPOCH = 2 --------------------------------------\n",
      "Loss : 0.9265     [10000/ 60000]\n",
      "Loss : 0.7595     [30000/ 60000]\n",
      "Loss : 0.6683     [50000/ 60000]\n",
      "Test LOSS : 0.6280    Accuracy = 83.3 \n",
      "EPOCH = 3 --------------------------------------\n",
      "Loss : 0.5294     [10000/ 60000]\n",
      "Loss : 0.4681     [30000/ 60000]\n",
      "Loss : 0.4705     [50000/ 60000]\n",
      "Test LOSS : 0.4845    Accuracy = 88.0 \n",
      "EPOCH = 4 --------------------------------------\n",
      "Loss : 0.4114     [10000/ 60000]\n",
      "Loss : 0.3871     [30000/ 60000]\n",
      "Loss : 0.3792     [50000/ 60000]\n",
      "Test LOSS : 0.3949    Accuracy = 90.0 \n"
     ]
    }
   ],
   "source": [
    "\n",
    "m = nn.Model()\n",
    "\n",
    "\n",
    "m.add(nn.Layer_Dense(28*28, 500, weight_regularizer_l2 = 0.02, bias_regularizer_l2 = 0.02))\n",
    "m.add(nn.Activation_ReLU())\n",
    "m.add(nn.Layer_Dense(500, 500))\n",
    "m.add(nn.Activation_ReLU())\n",
    "m.add(nn.Layer_Dense(500, 10))\n",
    "m.add(nn.Activation_Softmax())\n",
    "\n",
    "\n",
    "m.set(Loss = nn.Loss_CategoricalCrossentropy(),      \n",
    " Optimizer = nn.Optimizer_Adam())\n",
    "\n",
    "\n",
    "for i in range(1, 5):\n",
    "    print(f'EPOCH = {i} --------------------------------------')\n",
    "    m.train(train_img, train_lbl , batch= 6, shuffle = True, print_every = 2)\n",
    "    m.test(test_img, test_lbl, batch = 6, shuffle = True)\n",
    "\n"
   ]
  },
  {
   "cell_type": "code",
   "execution_count": 6,
   "metadata": {},
   "outputs": [
    {
     "data": {
      "text/plain": [
       "'model Saved Sucessfully'"
      ]
     },
     "execution_count": 6,
     "metadata": {},
     "output_type": "execute_result"
    }
   ],
   "source": [
    "m.save(\"model\",m)\n",
    "\"model Saved Sucessfully\""
   ]
  },
  {
   "cell_type": "code",
   "execution_count": 7,
   "metadata": {},
   "outputs": [
    {
     "data": {
      "text/plain": [
       "'model Loded Sucessfully'"
      ]
     },
     "execution_count": 7,
     "metadata": {},
     "output_type": "execute_result"
    }
   ],
   "source": [
    "m.load(\"model\")\n",
    "\"model Loded Sucessfully\""
   ]
  },
  {
   "cell_type": "code",
   "execution_count": 76,
   "metadata": {},
   "outputs": [
    {
     "data": {
      "text/plain": [
       "<matplotlib.image.AxesImage at 0x2220b36f860>"
      ]
     },
     "execution_count": 76,
     "metadata": {},
     "output_type": "execute_result"
    },
    {
     "data": {
      "image/png": "[encoded data removed]",
      "text/plain": [
       "<Figure size 640x480 with 1 Axes>"
      ]
     },
     "metadata": {},
     "output_type": "display_data"
    }
   ],
   "source": [
    "r = np.random.randint(10000)\n",
    "plt.title(m.predict(test_img[r]))\n",
    "plt.imshow(test_img[r].reshape(28,28), cmap= \"gray\")"
   ]
  }
 ],
 "metadata": {
  "kernelspec": {
   "display_name": "Python 3",
   "language": "python",
   "name": "python3"
  },
  "language_info": {
   "codemirror_mode": {
    "name": "ipython",
    "version": 3
   },
   "file_extension": ".py",
   "mimetype": "text/x-python",
   "name": "python",
   "nbconvert_exporter": "python",
   "pygments_lexer": "ipython3",
   "version": "3.12.6"
  }
 },
 "nbformat": 4,
 "nbformat_minor": 2
}

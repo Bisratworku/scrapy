{
 "cells": [
  {
   "cell_type": "code",
   "execution_count": null,
   "metadata": {},
   "outputs": [],
   "source": [
    "%pip install idx2numpy\n"
   ]
  },
  {
   "cell_type": "code",
   "execution_count": 27,
   "metadata": {},
   "outputs": [],
   "source": [
    "import idx2numpy\n",
    "import numpy as np\n",
    "import nn\n",
    "import matplotlib.pyplot as plt"
   ]
  },
  {
   "cell_type": "code",
   "execution_count": 30,
   "metadata": {},
   "outputs": [],
   "source": [
    "train_img = (idx2numpy.convert_from_file(\"train-images.idx3-ubyte\")/255).reshape(-1, 28 * 28)\n",
    "train_lbl = idx2numpy.convert_from_file(\"train-labels.idx1-ubyte\")\n",
    "test_img = (idx2numpy.convert_from_file(\"t10k-images.idx3-ubyte\")/255).reshape(-1, 28 * 28)\n",
    "test_lbl = idx2numpy.convert_from_file(\"t10k-labels.idx1-ubyte\")\n",
    "\n",
    "\n"
   ]
  },
  {
   "cell_type": "code",
   "execution_count": 31,
   "metadata": {},
   "outputs": [
    {
     "name": "stdout",
     "output_type": "stream",
     "text": [
      "EPOCH = 1 --------------------------------------\n",
      "Loss : 3.7004     [10000/ 60000]\n",
      "Loss : 2.0023     [30000/ 60000]\n",
      "Loss : 1.3310     [50000/ 60000]\n"
     ]
    },
    {
     "name": "stderr",
     "output_type": "stream",
     "text": [
      "c:\\Users\\pro\\Documents\\GitHub\\scrapy\\nn.py:339: RuntimeWarning: divide by zero encountered in scalar divide\n",
      "  test_loss /= batch\n"
     ]
    },
    {
     "name": "stdout",
     "output_type": "stream",
     "text": [
      "Test LOSS : inf    Accuracy = 72.0 \n",
      "EPOCH = 2 --------------------------------------\n",
      "Loss : 0.8516     [10000/ 60000]\n",
      "Loss : 0.7291     [30000/ 60000]\n",
      "Loss : 0.5944     [50000/ 60000]\n",
      "Test LOSS : inf    Accuracy = 84.7 \n",
      "EPOCH = 3 --------------------------------------\n",
      "Loss : 0.4867     [10000/ 60000]\n",
      "Loss : 0.4824     [30000/ 60000]\n",
      "Loss : 0.4420     [50000/ 60000]\n",
      "Test LOSS : inf    Accuracy = 88.9 \n",
      "EPOCH = 4 --------------------------------------\n",
      "Loss : 0.3738     [10000/ 60000]\n",
      "Loss : 0.3813     [30000/ 60000]\n",
      "Loss : 0.3579     [50000/ 60000]\n",
      "Test LOSS : inf    Accuracy = 90.7 \n"
     ]
    }
   ],
   "source": [
    "m = nn.Model()\n",
    "\n",
    "\n",
    "m.add(nn.Layer_Dense(28*28, 500, weight_regularizer_l2 = 0.02, bias_regularizer_l2 = 0.02))\n",
    "m.add(nn.Activation_ReLU())\n",
    "m.add(nn.Layer_Dense(500, 500))\n",
    "m.add(nn.Activation_ReLU())\n",
    "m.add(nn.Layer_Dense(500, 10))\n",
    "m.add(nn.Activation_Softmax())\n",
    "\n",
    "\n",
    "m.set(Loss = nn.Loss_CategoricalCrossentropy(),      \n",
    " Optimizer = nn.Optimizer_Adam())\n",
    "\n",
    "\n",
    "for i in range(1, 5):\n",
    "    print(f'EPOCH = {i} --------------------------------------')\n",
    "    m.train(train_img, train_lbl , batch= 6, shuffle = True, print_every = 2)\n",
    "    m.test(test_img, test_lbl)"
   ]
  }
 ],
 "metadata": {
  "kernelspec": {
   "display_name": "Python 3",
   "language": "python",
   "name": "python3"
  },
  "language_info": {
   "codemirror_mode": {
    "name": "ipython",
    "version": 3
   },
   "file_extension": ".py",
   "mimetype": "text/x-python",
   "name": "python",
   "nbconvert_exporter": "python",
   "pygments_lexer": "ipython3",
   "version": "3.12.8"
  }
 },
 "nbformat": 4,
 "nbformat_minor": 2
}

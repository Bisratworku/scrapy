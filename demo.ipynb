{
 "cells": [
  {
   "cell_type": "code",
   "execution_count": 25,
   "metadata": {},
   "outputs": [],
   "source": [
    "import numpy\n",
    "import nn\n",
    "import idx2numpy"
   ]
  },
  {
   "cell_type": "code",
   "execution_count": 32,
   "metadata": {},
   "outputs": [],
   "source": [
    "train_img = (idx2numpy.convert_from_file(\"train-images.idx3-ubyte\")/255).reshape(-1, 28 * 28)\n",
    "train_lbl = idx2numpy.convert_from_file(\"train-labels.idx1-ubyte\")\n",
    "test_img = (idx2numpy.convert_from_file(\"t10k-images.idx3-ubyte\")/255).reshape(-1, 28 * 28)\n",
    "test_lbl = idx2numpy.convert_from_file(\"t10k-labels.idx1-ubyte\")"
   ]
  },
  {
   "cell_type": "code",
   "execution_count": 34,
   "metadata": {},
   "outputs": [
    {
     "data": {
      "text/plain": [
       "((60000, 784), (10000, 784))"
      ]
     },
     "execution_count": 34,
     "metadata": {},
     "output_type": "execute_result"
    }
   ],
   "source": [
    "train_img.shape, test_img.shape"
   ]
  },
  {
   "cell_type": "code",
   "execution_count": 27,
   "metadata": {},
   "outputs": [],
   "source": [
    "model = nn.model()"
   ]
  },
  {
   "cell_type": "code",
   "execution_count": 31,
   "metadata": {},
   "outputs": [],
   "source": [
    "model.add(nn.Layer_Dense(28 * 28, 500))\n",
    "model.add(nn.Activation_ReLU())\n",
    "model.add(nn.Layer_Dense(500, 500))\n",
    "model.add(nn.Activation_ReLU())\n",
    "model.add(nn.Layer_Dense(500, 10))\n",
    "model.add(nn.Activation_Softmax())\n",
    "\n",
    "model.set(loss= nn.Loss_CategoricalCrossentropy(),\n",
    "          optimizer = nn.Optimizer_SGD(learning_rate = 0.8))\n"
   ]
  },
  {
   "cell_type": "code",
   "execution_count": null,
   "metadata": {},
   "outputs": [],
   "source": [
    "model.train(train_img, train_lbl, epoches  = 10000, print_every = 100, batch = 123)"
   ]
  }
 ],
 "metadata": {
  "kernelspec": {
   "display_name": "Python 3",
   "language": "python",
   "name": "python3"
  },
  "language_info": {
   "codemirror_mode": {
    "name": "ipython",
    "version": 3
   },
   "file_extension": ".py",
   "mimetype": "text/x-python",
   "name": "python",
   "nbconvert_exporter": "python",
   "pygments_lexer": "ipython3",
   "version": "3.12.6"
  }
 },
 "nbformat": 4,
 "nbformat_minor": 2
}

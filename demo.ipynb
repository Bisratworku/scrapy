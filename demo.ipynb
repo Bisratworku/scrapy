{
 "cells": [
  {
   "cell_type": "code",
   "execution_count": 1,
   "metadata": {},
   "outputs": [],
   "source": [
    "import numpy as np\n",
    "import nn\n",
    "import idx2numpy"
   ]
  },
  {
   "cell_type": "code",
   "execution_count": 2,
   "metadata": {},
   "outputs": [],
   "source": [
    "train_img = (idx2numpy.convert_from_file(\"train-images.idx3-ubyte\")/255).reshape(-1, 28 * 28)\n",
    "train_lbl = idx2numpy.convert_from_file(\"train-labels.idx1-ubyte\")\n",
    "test_img = (idx2numpy.convert_from_file(\"t10k-images.idx3-ubyte\")/255).reshape(-1, 28 * 28)\n",
    "test_lbl = idx2numpy.convert_from_file(\"t10k-labels.idx1-ubyte\")"
   ]
  },
  {
   "cell_type": "code",
   "execution_count": 3,
   "metadata": {},
   "outputs": [
    {
     "data": {
      "text/plain": [
       "((60000, 784), (10000, 784))"
      ]
     },
     "execution_count": 3,
     "metadata": {},
     "output_type": "execute_result"
    }
   ],
   "source": [
    "train_img.shape, test_img.shape"
   ]
  },
  {
   "cell_type": "code",
   "execution_count": 4,
   "metadata": {},
   "outputs": [
    {
     "data": {
      "text/plain": [
       "(60000,)"
      ]
     },
     "execution_count": 4,
     "metadata": {},
     "output_type": "execute_result"
    }
   ],
   "source": [
    "train_lbl.shape"
   ]
  },
  {
   "cell_type": "code",
   "execution_count": 10,
   "metadata": {},
   "outputs": [],
   "source": [
    "l1 = nn.Layer_Dense(28*28, 123)\n",
    "a1 = nn.Activation_ReLU()\n",
    "l2 = nn.Layer_Dense(123, 123)\n",
    "a2 = nn.Activation_ReLU()\n",
    "l3 = nn.Layer_Dense(123, 10)\n",
    "a3 = nn.Activation_Softmax()\n",
    "loss = nn.Loss_CategoricalCrossentropy()\n",
    "optim = nn.Optimizer_Adam()"
   ]
  },
  {
   "cell_type": "code",
   "execution_count": 11,
   "metadata": {},
   "outputs": [
    {
     "name": "stdout",
     "output_type": "stream",
     "text": [
      "Epoch = 1  Loss = 2.40420079333165  Acc = 0.0\n",
      "Epoch = 2  Loss = 2.2701353045561605  Acc = 0.0\n",
      "Epoch = 3  Loss = 2.154449627888097  Acc = 0.0\n",
      "Epoch = 4  Loss = 2.0501429857739484  Acc = 0.0\n",
      "Epoch = 5  Loss = 1.952448019030373  Acc = 0.0\n",
      "Epoch = 6  Loss = 1.8583747703165328  Acc = 0.0\n",
      "Epoch = 7  Loss = 1.7660927885206053  Acc = 0.0\n",
      "Epoch = 8  Loss = 1.6749558826892905  Acc = 0.0\n",
      "Epoch = 9  Loss = 1.5847290477244216  Acc = 0.0\n",
      "Epoch = 10  Loss = 1.4954783961381382  Acc = 0.0\n",
      "Epoch = 11  Loss = 1.4074136673924569  Acc = 0.0\n",
      "Epoch = 12  Loss = 1.3209851176035836  Acc = 0.0\n",
      "Epoch = 13  Loss = 1.2368222195850098  Acc = 0.0\n",
      "Epoch = 14  Loss = 1.1557134507970708  Acc = 0.0\n",
      "Epoch = 15  Loss = 1.0784523027806394  Acc = 0.0\n"
     ]
    }
   ],
   "source": [
    "for i in range(15):\n",
    "    l1.forward(train_img)\n",
    "    a1.forward(l1.output)\n",
    "    l2.forward(a1.output)\n",
    "    a2.forward(l2.output)\n",
    "    l3.forward(a2.output)\n",
    "    a3.forward(l3.output)\n",
    "    print(f'Epoch = {i + 1}  Loss = {loss.calculate(a3.output, train_lbl)}  Acc = {a3.prediction()}')\n",
    "    loss.backward(a3.output, train_lbl)\n",
    "    a3.backward(loss.dinputs)\n",
    "    l3.backward(a3.dinputs)\n",
    "    a2.backward(l3.dinputs)\n",
    "    l2.backward(a2.dinputs)\n",
    "    a1.backward(l2.dinputs)\n",
    "    l1.backward(a1.dinputs)\n",
    "    optim.pre_update_params()\n",
    "    optim.update_params(l1)\n",
    "    optim.update_params(l2)\n",
    "    optim.update_params(l3)\n",
    "    optim.post_update_params()\n"
   ]
  }
 ],
 "metadata": {
  "kernelspec": {
   "display_name": "Python 3",
   "language": "python",
   "name": "python3"
  },
  "language_info": {
   "codemirror_mode": {
    "name": "ipython",
    "version": 3
   },
   "file_extension": ".py",
   "mimetype": "text/x-python",
   "name": "python",
   "nbconvert_exporter": "python",
   "pygments_lexer": "ipython3",
   "version": "3.12.6"
  }
 },
 "nbformat": 4,
 "nbformat_minor": 2
}

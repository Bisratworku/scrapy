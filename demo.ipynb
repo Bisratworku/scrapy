{
 "cells": [
  {
   "cell_type": "code",
   "execution_count": 2,
   "metadata": {},
   "outputs": [],
   "source": [
    "from scrapy import nn\n",
    "import idx2numpy\n",
    "import matplotlib.pyplot as plt\n",
    "import numpy as np"
   ]
  },
  {
   "cell_type": "code",
   "execution_count": 6,
   "metadata": {},
   "outputs": [],
   "source": [
    "#=nb"
   ]
  },
  {
   "cell_type": "code",
   "execution_count": 3,
   "metadata": {},
   "outputs": [
    {
     "data": {
      "text/plain": [
       "((60000, 28, 28), (60000,), ' test', (10000, 28, 28), (10000,))"
      ]
     },
     "execution_count": 3,
     "metadata": {},
     "output_type": "execute_result"
    }
   ],
   "source": [
    "train_img = idx2numpy.convert_from_file(\"C:\\\\Users\\\\pro\\\\Documents\\\\GitHub\\\\scrapy\\\\train-images.idx3-ubyte\")/255\n",
    "train_lbl = idx2numpy.convert_from_file(\"C:\\\\Users\\\\pro\\\\Documents\\\\GitHub\\\\scrapy\\\\train-labels.idx1-ubyte\")\n",
    "test_img = idx2numpy.convert_from_file(\"C:\\\\Users\\\\pro\\\\Documents\\\\GitHub\\\\scrapy\\\\t10k-images.idx3-ubyte\")/255\n",
    "test_lbl = idx2numpy.convert_from_file(\"C:\\\\Users\\\\pro\\\\Documents\\\\GitHub\\\\scrapy\\\\t10k-labels.idx1-ubyte\")\n",
    "\n",
    "train_img.shape, train_lbl.shape, \" test\" , test_img.shape, test_lbl.shape "
   ]
  },
  {
   "cell_type": "code",
   "execution_count": 4,
   "metadata": {},
   "outputs": [],
   "source": [
    "batch = 32\n",
    "train_data =  list(zip(np.array_split(train_img.reshape(-1,28*28),batch), np.array_split(train_lbl, batch)))\n",
    "test_data = list(zip(np.array_split(test_img.reshape(-1,28*28), batch), np.array_split(test_lbl, batch)))\n"
   ]
  },
  {
   "cell_type": "code",
   "execution_count": 5,
   "metadata": {},
   "outputs": [],
   "source": [
    "l1 = nn.Layer_Dense(28*28,200)\n",
    "a1 = nn.Activation_ReLU()\n",
    "l2 = nn.Layer_Dense(200,100)\n",
    "a2 = nn.Activation_ReLU()\n",
    "l3 = nn.Layer_Dense(100,10)\n",
    "a3 = nn.Activation_softmax()\n",
    "loss = nn.Loss_Catagorical()\n",
    "optimizer = nn.Optimizer_ADAM(learning_rate=0.001, decay=1e-3)"
   ]
  },
  {
   "cell_type": "code",
   "execution_count": 27,
   "metadata": {},
   "outputs": [],
   "source": [
    "def train(print_every = 100 ):\n",
    "    for batch,(i,j) in enumerate(train_data):\n",
    "        l1.forward(i)\n",
    "        a1.forward(l1.output)\n",
    "        l2.forward(a1.output)\n",
    "        a2.forward(l2.output)\n",
    "        l3.forward(a2.output)\n",
    "        a3.forward(l3.output)\n",
    "        loss.forward(a3.output, j)\n",
    "        loss.backward()\n",
    "        optimizer.step(l3)\n",
    "        optimizer.step(l2)\n",
    "        optimizer.step(l1)\n",
    "        if ((batch + 1) * len(i)) % print_every == 0:\n",
    "            current = (batch + 1) * len(i)\n",
    "            print(f'Loss : {loss.output.value} [{current}/{len(train_img)}]')"
   ]
  },
  {
   "cell_type": "code",
   "execution_count": 61,
   "metadata": {},
   "outputs": [],
   "source": [
    "def test():\n",
    "    total_loss,correct = 0,0\n",
    "    for batch,(i,j) in enumerate(test_data):\n",
    "        l1.forward(i)\n",
    "        a1.forward(l1.output)\n",
    "        l2.forward(a1.output)\n",
    "        a2.forward(l2.output)\n",
    "        l3.forward(a2.output)\n",
    "        a3.forward(l3.output)\n",
    "        loss.forward(a3.output, j)\n",
    "        total_loss += loss.output.value\n",
    "        correct += (np.argmax(a3.output.value ,axis = 1) == j).sum()\n",
    "    correct/= len(test_img)\n",
    "    total_loss /= len(test_data)\n",
    "    print(f'Loss : {total_loss},  Accuracy : {correct}')"
   ]
  },
  {
   "cell_type": "code",
   "execution_count": 63,
   "metadata": {},
   "outputs": [
    {
     "name": "stdout",
     "output_type": "stream",
     "text": [
      "Epoch : 1-------------------------------------------------\n",
      "Loss : 0.32799506014316226 [7500/60000]\n",
      "Loss : 0.35102280891253995 [15000/60000]\n",
      "Loss : 0.32569483757588374 [22500/60000]\n",
      "Loss : 0.32428579960518855 [30000/60000]\n",
      "Loss : 0.3222261696731424 [37500/60000]\n",
      "Loss : 0.29161273208108934 [45000/60000]\n",
      "Loss : 0.3013477847884767 [52500/60000]\n",
      "Loss : 0.21178955812738673 [60000/60000]\n",
      "Loss : 0.30558564929356263,  Accuracy : 0.9459\n",
      "Epoch : 2-------------------------------------------------\n",
      "Loss : 0.29999016733557865 [7500/60000]\n",
      "Loss : 0.32697598269151995 [15000/60000]\n",
      "Loss : 0.3033563049003945 [22500/60000]\n",
      "Loss : 0.30489940226511464 [30000/60000]\n",
      "Loss : 0.30023825435885826 [37500/60000]\n",
      "Loss : 0.2696619591678634 [45000/60000]\n",
      "Loss : 0.2774795367530161 [52500/60000]\n",
      "Loss : 0.1944773839111042 [60000/60000]\n",
      "Loss : 0.2853170100050525,  Accuracy : 0.9487\n",
      "Epoch : 3-------------------------------------------------\n",
      "Loss : 0.2796029085592537 [7500/60000]\n",
      "Loss : 0.30629824963747515 [15000/60000]\n",
      "Loss : 0.2845551109328946 [22500/60000]\n",
      "Loss : 0.2880986194025724 [30000/60000]\n",
      "Loss : 0.28405806146174256 [37500/60000]\n",
      "Loss : 0.25450934679323356 [45000/60000]\n",
      "Loss : 0.26076848852441475 [52500/60000]\n",
      "Loss : 0.18186786347437328 [60000/60000]\n",
      "Loss : 0.27023581451058354,  Accuracy : 0.9508\n",
      "Epoch : 4-------------------------------------------------\n",
      "Loss : 0.264658007570592 [7500/60000]\n",
      "Loss : 0.2907006812408786 [15000/60000]\n",
      "Loss : 0.2705513924854708 [22500/60000]\n",
      "Loss : 0.2744678646477015 [30000/60000]\n",
      "Loss : 0.2708017111750894 [37500/60000]\n",
      "Loss : 0.2424164868502125 [45000/60000]\n",
      "Loss : 0.24773770578668264 [52500/60000]\n",
      "Loss : 0.17195058668251442 [60000/60000]\n",
      "Loss : 0.25814401319454067,  Accuracy : 0.9523\n",
      "Epoch : 5-------------------------------------------------\n",
      "Loss : 0.2520442344776032 [7500/60000]\n",
      "Loss : 0.27827276368595255 [15000/60000]\n",
      "Loss : 0.2585264498038993 [22500/60000]\n",
      "Loss : 0.263100433527741 [30000/60000]\n",
      "Loss : 0.25979720821485697 [37500/60000]\n",
      "Loss : 0.2329276018661207 [45000/60000]\n",
      "Loss : 0.2376250000735999 [52500/60000]\n",
      "Loss : 0.1648423289469344 [60000/60000]\n",
      "Loss : 0.2487215372262128,  Accuracy : 0.9535\n"
     ]
    }
   ],
   "source": [
    "epochs = 5\n",
    "for i in range(epochs):\n",
    "    print(f'Epoch : {i+1}-------------------------------------------------')\n",
    "    train()\n",
    "    test()"
   ]
  },
  {
   "cell_type": "code",
   "execution_count": 94,
   "metadata": {},
   "outputs": [],
   "source": [
    "def pred(img):\n",
    "    l1.forward(img)\n",
    "    a1.forward(l1.output)\n",
    "    l2.forward(a1.output)\n",
    "    a2.forward(l2.output)\n",
    "    l3.forward(a2.output)\n",
    "    a3.forward(l3.output) \n",
    "    return np.argmax(a3.output.value ,axis = 1)"
   ]
  },
  {
   "cell_type": "code",
   "execution_count": 82,
   "metadata": {},
   "outputs": [],
   "source": [
    "classes = {\n",
    "    0: 'Zero',\n",
    "    1: 'One',\n",
    "    2: 'Two',\n",
    "    3: 'Three',\n",
    "    4: 'Four',\n",
    "    5: 'Five',\n",
    "    6: 'Six',\n",
    "    7: 'Seven',\n",
    "    8: 'Eight',\n",
    "    9: 'Nine'\n",
    "}"
   ]
  },
  {
   "cell_type": "code",
   "execution_count": 140,
   "metadata": {},
   "outputs": [
    {
     "data": {
      "text/plain": [
       "<matplotlib.image.AxesImage at 0x261344fb0b0>"
      ]
     },
     "execution_count": 140,
     "metadata": {},
     "output_type": "execute_result"
    },
    {
     "data": {
      "image/png": "[encoded data removed]",
      "text/plain": [
       "<Figure size 640x480 with 1 Axes>"
      ]
     },
     "metadata": {},
     "output_type": "display_data"
    }
   ],
   "source": [
    "img = test_img[np.random.randint(0,1000)]\n",
    "plt.title(classes[int(pred(img.reshape(-1,28*28))[0])])\n",
    "plt.imshow(img.reshape(28,28), cmap='gray')"
   ]
  }
 ],
 "metadata": {
  "kernelspec": {
   "display_name": "Python 3",
   "language": "python",
   "name": "python3"
  },
  "language_info": {
   "codemirror_mode": {
    "name": "ipython",
    "version": 3
   },
   "file_extension": ".py",
   "mimetype": "text/x-python",
   "name": "python",
   "nbconvert_exporter": "python",
   "pygments_lexer": "ipython3",
   "version": "3.12.9"
  }
 },
 "nbformat": 4,
 "nbformat_minor": 2
}
